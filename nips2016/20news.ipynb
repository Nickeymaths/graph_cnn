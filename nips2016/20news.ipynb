{
 "cells": [
  {
   "cell_type": "markdown",
   "metadata": {},
   "source": [
    "**Parameters to reproduce the paper's results**:\n",
    "* change the optimizer from SGD to Adam in `lib/models.py`,\n",
    "* change the size of the vocabulary from 1000 to 10000 in `train.keep_top_words()` below."
   ]
  },
  {
   "cell_type": "code",
   "execution_count": 1,
   "metadata": {
    "collapsed": false
   },
   "outputs": [
    {
     "name": "stderr",
     "output_type": "stream",
     "text": [
      "/home/vinh/anaconda3/envs/graph_cnn/lib/python3.6/site-packages/tensorflow/python/framework/dtypes.py:523: FutureWarning: Passing (type, 1) or '1type' as a synonym of type is deprecated; in a future version of numpy, it will be understood as (type, (1,)) / '(1,)type'.\n",
      "  _np_qint8 = np.dtype([(\"qint8\", np.int8, 1)])\n",
      "/home/vinh/anaconda3/envs/graph_cnn/lib/python3.6/site-packages/tensorflow/python/framework/dtypes.py:524: FutureWarning: Passing (type, 1) or '1type' as a synonym of type is deprecated; in a future version of numpy, it will be understood as (type, (1,)) / '(1,)type'.\n",
      "  _np_quint8 = np.dtype([(\"quint8\", np.uint8, 1)])\n",
      "/home/vinh/anaconda3/envs/graph_cnn/lib/python3.6/site-packages/tensorflow/python/framework/dtypes.py:525: FutureWarning: Passing (type, 1) or '1type' as a synonym of type is deprecated; in a future version of numpy, it will be understood as (type, (1,)) / '(1,)type'.\n",
      "  _np_qint16 = np.dtype([(\"qint16\", np.int16, 1)])\n",
      "/home/vinh/anaconda3/envs/graph_cnn/lib/python3.6/site-packages/tensorflow/python/framework/dtypes.py:526: FutureWarning: Passing (type, 1) or '1type' as a synonym of type is deprecated; in a future version of numpy, it will be understood as (type, (1,)) / '(1,)type'.\n",
      "  _np_quint16 = np.dtype([(\"quint16\", np.uint16, 1)])\n",
      "/home/vinh/anaconda3/envs/graph_cnn/lib/python3.6/site-packages/tensorflow/python/framework/dtypes.py:527: FutureWarning: Passing (type, 1) or '1type' as a synonym of type is deprecated; in a future version of numpy, it will be understood as (type, (1,)) / '(1,)type'.\n",
      "  _np_qint32 = np.dtype([(\"qint32\", np.int32, 1)])\n",
      "/home/vinh/anaconda3/envs/graph_cnn/lib/python3.6/site-packages/tensorflow/python/framework/dtypes.py:532: FutureWarning: Passing (type, 1) or '1type' as a synonym of type is deprecated; in a future version of numpy, it will be understood as (type, (1,)) / '(1,)type'.\n",
      "  np_resource = np.dtype([(\"resource\", np.ubyte, 1)])\n"
     ]
    }
   ],
   "source": [
    "%load_ext autoreload\n",
    "%autoreload 2\n",
    "\n",
    "import sys, os\n",
    "sys.path.insert(0, '..')\n",
    "from lib import models, graph, coarsening, utils\n",
    "\n",
    "import tensorflow as tf\n",
    "import matplotlib.pyplot as plt\n",
    "import scipy.sparse\n",
    "import numpy as np\n",
    "import time\n",
    "\n",
    "%matplotlib inline"
   ]
  },
  {
   "cell_type": "code",
   "execution_count": 2,
   "metadata": {
    "collapsed": false
   },
   "outputs": [],
   "source": [
    "# flags = tf.app.flags\n",
    "# FLAGS = flags.FLAGS\n",
    "\n",
    "# # Graphs.\n",
    "# flags.DEFINE_integer('number_edges', 16, 'Graph: minimum number of edges per vertex.')\n",
    "# flags.DEFINE_string('metric', 'cosine', 'Graph: similarity measure (between features).')\n",
    "# # TODO: change cgcnn for combinatorial Laplacians.\n",
    "# flags.DEFINE_bool('normalized_laplacian', True, 'Graph Laplacian: normalized.')\n",
    "# flags.DEFINE_integer('coarsening_levels', 0, 'Number of coarsened graphs.')\n",
    "\n",
    "# flags.DEFINE_string('dir_data', os.path.join('..', 'data', '20news'), 'Directory to store data.')\n",
    "# flags.DEFINE_integer('val_size', 400, 'Size of the validation set.')\n",
    "\n",
    "from easydict import EasyDict as edict\n",
    "\n",
    "FLAGS = edict({\n",
    "    'number_edges': 16,\n",
    "    'metric': 'cosine',\n",
    "    'normalized_laplacian': True,\n",
    "    'coarsening_levels': 0,\n",
    "    'dir_data': os.path.join('..', 'data', '20news'),\n",
    "    'val_size': 400\n",
    "})"
   ]
  },
  {
   "cell_type": "markdown",
   "metadata": {},
   "source": [
    "# Data"
   ]
  },
  {
   "cell_type": "code",
   "execution_count": 3,
   "metadata": {
    "collapsed": false
   },
   "outputs": [
    {
     "name": "stdout",
     "output_type": "stream",
     "text": [
      "N = 11314 documents, C = 20 classes\n",
      "document 1: label 4 --> comp.sys.mac.hardware, 90 words\n",
      "A fair number of brave souls who upgraded their SI clock oscillator have\n",
      "shared their experiences for this poll. Please send a brief message detailing\n",
      "your experiences with the procedure. Top speed attained, CPU rated speed,\n",
      "add on cards and adapters, heat sinks, hour of usage per day, floppy disk\n",
      "functionality with 800 and 1.4 m floppies are especially requested.\n",
      "\n",
      "I will be summarizing in the nex\n",
      "document 1: label 4 --> comp.sys.mac.hardware, 92 words\n",
      "  1.00 \"adapters\" (669)\n",
      "  2.00 \"add\" (684)\n",
      "  1.00 \"answered\" (2523)\n",
      "  1.00 \"attained\" (3941)\n",
      "  1.00 \"base\" (5026)\n",
      "  1.00 \"brave\" (7179)\n",
      "  1.00 \"brief\" (7318)\n",
      "  1.00 \"cards\" (8579)\n",
      "  2.00 \"clock\" (10473)\n",
      "  1.00 \"cpu\" (12728)\n",
      "  1.00 \"day\" (14053)\n",
      "  1.00 \"days\" (14068)\n",
      "  1.00 \"detailing\" (15215)\n",
      "  1.00 \"disk\" (16087)\n",
      "  1.00 \"especially\" (19550)\n",
      "  2.00 \"experiences\" (20279)\n",
      "  1.00 \"fair\" (20691)\n",
      "  1.00 \"floppies\" (22013)\n",
      "  1.00 \"floppy\" (22014)\n",
      "  1.00 \"functionality\" (23084)\n",
      "  1.00 \"haven\" (26300)\n",
      "  1.00 \"heat\" (26506)\n",
      "  1.00 \"hour\" (27781)\n",
      "  1.00 \"knowledge\" (33799)\n",
      "  1.00 \"message\" (38666)\n",
      "  1.00 \"network\" (42182)\n",
      "  3.00 \"num\" (43354)\n",
      "  1.00 \"number\" (43358)\n",
      "  1.00 \"oscillator\" (44835)\n",
      "  2.00 \"poll\" (47881)\n",
      "  1.00 \"procedure\" (48929)\n",
      "  1.00 \"rated\" (51083)\n",
      "  1.00 \"requested\" (52563)\n",
      "  1.00 \"send\" (55923)\n",
      "  1.00 \"shared\" (56362)\n",
      "  1.00 \"si\" (56820)\n",
      "  1.00 \"sinks\" (57140)\n",
      "  1.00 \"souls\" (58192)\n",
      "  2.00 \"speed\" (58480)\n",
      "  1.00 \"summarizing\" (60315)\n",
      "  1.00 \"thanks\" (62089)\n",
      "  1.00 \"upgrade\" (65817)\n",
      "  1.00 \"upgraded\" (65820)\n",
      "  1.00 \"usage\" (65998)\n",
      "a fair number of brave souls who upgraded their si clock oscillator have shared their experiences for this poll please send a brief message detailing your experiences with the procedure top speed attained cpu rated speed add on cards and adapters heat sinks hour of usage per day floppy disk functionality with num and num num m floppies are especially requested i will be summarizing in the next two\n"
     ]
    }
   ],
   "source": [
    "# Fetch dataset. Scikit-learn already performs some cleaning.\n",
    "remove = ('headers','footers','quotes')  # (), ('headers') or ('headers','footers','quotes')\n",
    "train = utils.Text20News(data_home=FLAGS.dir_data, subset='train', remove=remove)\n",
    "\n",
    "# Pre-processing: transform everything to a-z and whitespace.\n",
    "print(train.show_document(1)[:400])\n",
    "train.clean_text(num='substitute')\n",
    "\n",
    "# Analyzing / tokenizing: transform documents to bags-of-words.\n",
    "#stop_words = set(sklearn.feature_extraction.text.ENGLISH_STOP_WORDS)\n",
    "# Or stop words from NLTK.\n",
    "# Add e.g. don, ve.\n",
    "train.vectorize(stop_words='english')\n",
    "print(train.show_document(1)[:400])"
   ]
  },
  {
   "cell_type": "code",
   "execution_count": 4,
   "metadata": {
    "collapsed": false
   },
   "outputs": [
    {
     "name": "stdout",
     "output_type": "stream",
     "text": [
      "N = 11314 documents, M = 72607 words, sparsity=0.0852%\n",
      "    480 documents in class  0 (alt.atheism)\n",
      "    584 documents in class  1 (comp.graphics)\n",
      "    591 documents in class  2 (comp.os.ms-windows.misc)\n",
      "    590 documents in class  3 (comp.sys.ibm.pc.hardware)\n",
      "    578 documents in class  4 (comp.sys.mac.hardware)\n",
      "    593 documents in class  5 (comp.windows.x)\n",
      "    585 documents in class  6 (misc.forsale)\n",
      "    594 documents in class  7 (rec.autos)\n",
      "    598 documents in class  8 (rec.motorcycles)\n",
      "    597 documents in class  9 (rec.sport.baseball)\n",
      "    600 documents in class 10 (rec.sport.hockey)\n",
      "    595 documents in class 11 (sci.crypt)\n",
      "    591 documents in class 12 (sci.electronics)\n",
      "    594 documents in class 13 (sci.med)\n",
      "    593 documents in class 14 (sci.space)\n",
      "    599 documents in class 15 (soc.religion.christian)\n",
      "    546 documents in class 16 (talk.politics.guns)\n",
      "    564 documents in class 17 (talk.politics.mideast)\n",
      "    465 documents in class 18 (talk.politics.misc)\n",
      "    377 documents in class 19 (talk.religion.misc)\n",
      "N = 10181 documents, M = 72607 words, sparsity=0.0941%\n",
      "shortest: 0, longest: 24042 words\n",
      "N = 10171 documents, M = 72607 words, sparsity=0.0934%\n"
     ]
    },
    {
     "data": {
      "image/png": "[encoded data removed]",
      "text/plain": [
       "<Figure size 1224x360 with 1 Axes>"
      ]
     },
     "metadata": {
      "needs_background": "light"
     },
     "output_type": "display_data"
    },
    {
     "data": {
      "image/png": "[encoded data removed]",
      "text/plain": [
       "<Figure size 1224x360 with 1 Axes>"
      ]
     },
     "metadata": {
      "needs_background": "light"
     },
     "output_type": "display_data"
    }
   ],
   "source": [
    "# Remove short documents.\n",
    "train.data_info(True)\n",
    "wc = train.remove_short_documents(nwords=20, vocab='full')\n",
    "train.data_info()\n",
    "print('shortest: {}, longest: {} words'.format(wc.min(), wc.max()))\n",
    "plt.figure(figsize=(17,5))\n",
    "plt.semilogy(wc, '.');\n",
    "\n",
    "# Remove encoded images.\n",
    "def remove_encoded_images(dataset, freq=1e3):\n",
    "    widx = train.vocab.index('ax')\n",
    "    wc = train.data[:,widx].toarray().squeeze()\n",
    "    idx = np.argwhere(wc < freq).squeeze()\n",
    "    dataset.keep_documents(idx)\n",
    "    return wc\n",
    "wc = remove_encoded_images(train)\n",
    "train.data_info()\n",
    "plt.figure(figsize=(17,5))\n",
    "plt.semilogy(wc, '.');"
   ]
  },
  {
   "cell_type": "code",
   "execution_count": 5,
   "metadata": {
    "collapsed": false
   },
   "outputs": [
    {
     "name": "stdout",
     "output_type": "stream",
     "text": [
      "33838 words not found in corpus\n",
      "N = 10171 documents, M = 38769 words, sparsity=0.1613%\n"
     ]
    }
   ],
   "source": [
    "# Word embedding\n",
    "# if True:\n",
    "#     train.embed()\n",
    "# else:\n",
    "#     train.embed(os.path.join('..', 'data', 'word2vec', 'GoogleNews-vectors-negative300.bin'))\n",
    "\n",
    "train.embed(os.path.join('..', 'data', 'word2vec', 'GoogleNews-vectors-negative300.bin'))\n",
    "\n",
    "train.data_info()\n",
    "# Further feature selection. (TODO)"
   ]
  },
  {
   "cell_type": "code",
   "execution_count": 6,
   "metadata": {
    "collapsed": false
   },
   "outputs": [
    {
     "name": "stdout",
     "output_type": "stream",
     "text": [
      "most frequent words\n",
      "    0: num        163934 counts\n",
      "    1: dollar      10562 counts\n",
      "    2: people       4093 counts\n",
      "    3: like         3942 counts\n",
      "    4: don          3869 counts\n",
      "    5: just         3721 counts\n",
      "    6: know         3464 counts\n",
      "    7: use          3166 counts\n",
      "    8: think        2995 counts\n",
      "    9: time         2966 counts\n",
      "   10: does         2749 counts\n",
      "   11: new          2606 counts\n",
      "   12: good         2492 counts\n",
      "   13: edu          2416 counts\n",
      "   14: way          2032 counts\n",
      "   15: make         2022 counts\n",
      "   16: god          1976 counts\n",
      "   17: used         1874 counts\n",
      "   18: ve           1857 counts\n",
      "   19: say          1841 counts\n",
      "N = 10171 documents, M = 10000 words, sparsity=0.5537%\n",
      "document 1: label 4 --> comp.sys.mac.hardware, 92 words\n",
      "  3.00 \"num\" (0)\n",
      "  1.00 \"number\" (40)\n",
      "  1.00 \"thanks\" (48)\n",
      "  1.00 \"day\" (76)\n",
      "  1.00 \"send\" (97)\n",
      "  1.00 \"disk\" (156)\n",
      "  1.00 \"message\" (206)\n",
      "  2.00 \"speed\" (226)\n",
      "  1.00 \"days\" (244)\n",
      "  1.00 \"especially\" (383)\n",
      "  2.00 \"add\" (439)\n",
      "  1.00 \"haven\" (465)\n",
      "  1.00 \"network\" (527)\n",
      "  1.00 \"cards\" (590)\n",
      "  1.00 \"knowledge\" (612)\n",
      "  1.00 \"base\" (708)\n",
      "  1.00 \"floppy\" (753)\n",
      "  2.00 \"clock\" (970)\n",
      "  1.00 \"cpu\" (1134)\n",
      "  1.00 \"si\" (1159)\n",
      "  1.00 \"fair\" (1191)\n",
      "  1.00 \"upgrade\" (1418)\n",
      "  1.00 \"heat\" (1617)\n",
      "  1.00 \"shared\" (1742)\n",
      "  1.00 \"hour\" (1842)\n",
      "  1.00 \"usage\" (1921)\n",
      "  1.00 \"answered\" (2284)\n",
      "  2.00 \"experiences\" (2420)\n",
      "  1.00 \"procedure\" (2431)\n",
      "  1.00 \"functionality\" (3366)\n",
      "  1.00 \"brief\" (3452)\n",
      "  1.00 \"requested\" (3670)\n",
      "  1.00 \"rated\" (3888)\n",
      "  1.00 \"floppies\" (4186)\n",
      "  1.00 \"upgraded\" (4470)\n",
      "  1.00 \"souls\" (5306)\n",
      "  2.00 \"poll\" (6081)\n",
      "  1.00 \"adapters\" (6298)\n",
      "  1.00 \"oscillator\" (6366)\n",
      "  1.00 \"brave\" (7366)\n",
      "N = 10168 documents, M = 10000 words, sparsity=0.5539%\n",
      "    428 documents in class  0 (alt.atheism)\n",
      "    523 documents in class  1 (comp.graphics)\n",
      "    515 documents in class  2 (comp.os.ms-windows.misc)\n",
      "    553 documents in class  3 (comp.sys.ibm.pc.hardware)\n",
      "    513 documents in class  4 (comp.sys.mac.hardware)\n",
      "    552 documents in class  5 (comp.windows.x)\n",
      "    531 documents in class  6 (misc.forsale)\n",
      "    515 documents in class  7 (rec.autos)\n",
      "    500 documents in class  8 (rec.motorcycles)\n",
      "    497 documents in class  9 (rec.sport.baseball)\n",
      "    537 documents in class 10 (rec.sport.hockey)\n",
      "    550 documents in class 11 (sci.crypt)\n",
      "    536 documents in class 12 (sci.electronics)\n",
      "    554 documents in class 13 (sci.med)\n",
      "    539 documents in class 14 (sci.space)\n",
      "    564 documents in class 15 (soc.religion.christian)\n",
      "    504 documents in class 16 (talk.politics.guns)\n",
      "    510 documents in class 17 (talk.politics.mideast)\n",
      "    423 documents in class 18 (talk.politics.misc)\n",
      "    324 documents in class 19 (talk.religion.misc)\n"
     ]
    },
    {
     "data": {
      "image/png": "[encoded data removed]",
      "text/plain": [
       "<Figure size 1224x360 with 1 Axes>"
      ]
     },
     "metadata": {
      "needs_background": "light"
     },
     "output_type": "display_data"
    }
   ],
   "source": [
    "# Feature selection.\n",
    "# Other options include: mutual information or document count.\n",
    "freq = train.keep_top_words(10000, 20)\n",
    "train.data_info()\n",
    "train.show_document(1)\n",
    "plt.figure(figsize=(17,5))\n",
    "plt.semilogy(freq)\n",
    "\n",
    "# Remove documents whose signal would be the zero vector.\n",
    "wc = train.remove_short_documents(nwords=5, vocab='selected')\n",
    "train.data_info(True)"
   ]
  },
  {
   "cell_type": "code",
   "execution_count": 7,
   "metadata": {
    "collapsed": false
   },
   "outputs": [
    {
     "name": "stdout",
     "output_type": "stream",
     "text": [
      "document 1: label 4 --> comp.sys.mac.hardware, 92 words\n",
      "  0.06 \"num\" (0)\n",
      "  0.02 \"number\" (40)\n",
      "  0.02 \"thanks\" (48)\n",
      "  0.02 \"day\" (76)\n",
      "  0.02 \"send\" (97)\n",
      "  0.02 \"disk\" (156)\n",
      "  0.02 \"message\" (206)\n",
      "  0.04 \"speed\" (226)\n",
      "  0.02 \"days\" (244)\n",
      "  0.02 \"especially\" (383)\n",
      "  0.04 \"add\" (439)\n",
      "  0.02 \"haven\" (465)\n",
      "  0.02 \"network\" (527)\n",
      "  0.02 \"cards\" (590)\n",
      "  0.02 \"knowledge\" (612)\n",
      "  0.02 \"base\" (708)\n",
      "  0.02 \"floppy\" (753)\n",
      "  0.04 \"clock\" (970)\n",
      "  0.02 \"cpu\" (1134)\n",
      "  0.02 \"si\" (1159)\n",
      "  0.02 \"fair\" (1191)\n",
      "  0.02 \"upgrade\" (1418)\n",
      "  0.02 \"heat\" (1617)\n",
      "  0.02 \"shared\" (1742)\n",
      "  0.02 \"hour\" (1842)\n",
      "  0.02 \"usage\" (1921)\n",
      "  0.02 \"answered\" (2284)\n",
      "  0.04 \"experiences\" (2420)\n",
      "  0.02 \"procedure\" (2431)\n",
      "  0.02 \"functionality\" (3366)\n",
      "  0.02 \"brief\" (3452)\n",
      "  0.02 \"requested\" (3670)\n",
      "  0.02 \"rated\" (3888)\n",
      "  0.02 \"floppies\" (4186)\n",
      "  0.02 \"upgraded\" (4470)\n",
      "  0.02 \"souls\" (5306)\n",
      "  0.04 \"poll\" (6081)\n",
      "  0.02 \"adapters\" (6298)\n",
      "  0.02 \"oscillator\" (6366)\n",
      "  0.02 \"brave\" (7366)\n"
     ]
    },
    {
     "data": {
      "text/plain": [
       "'a fair number of brave souls who upgraded their si clock oscillator have shared their experiences for this poll please send a brief message detailing your experiences with the procedure top speed attained cpu rated speed add on cards and adapters heat sinks hour of usage per day floppy disk functionality with num and num num m floppies are especially requested i will be summarizing in the next two days so please add to the network knowledge base if you have done the clock upgrade and haven t answered this poll thanks'"
      ]
     },
     "execution_count": 7,
     "metadata": {},
     "output_type": "execute_result"
    }
   ],
   "source": [
    "train.normalize(norm='l1')\n",
    "train.show_document(1)"
   ]
  },
  {
   "cell_type": "code",
   "execution_count": 8,
   "metadata": {
    "collapsed": false
   },
   "outputs": [
    {
     "name": "stdout",
     "output_type": "stream",
     "text": [
      "N = 7532 documents, C = 20 classes\n",
      "N = 7532 documents, M = 10000 words, sparsity=0.4757%\n",
      "shortest: 0, longest: 30817 words\n",
      "N = 7065 documents, M = 10000 words, sparsity=0.5062%\n",
      "    299 documents in class  0 (alt.atheism)\n",
      "    374 documents in class  1 (comp.graphics)\n",
      "    374 documents in class  2 (comp.os.ms-windows.misc)\n",
      "    377 documents in class  3 (comp.sys.ibm.pc.hardware)\n",
      "    361 documents in class  4 (comp.sys.mac.hardware)\n",
      "    374 documents in class  5 (comp.windows.x)\n",
      "    373 documents in class  6 (misc.forsale)\n",
      "    359 documents in class  7 (rec.autos)\n",
      "    364 documents in class  8 (rec.motorcycles)\n",
      "    361 documents in class  9 (rec.sport.baseball)\n",
      "    379 documents in class 10 (rec.sport.hockey)\n",
      "    364 documents in class 11 (sci.crypt)\n",
      "    374 documents in class 12 (sci.electronics)\n",
      "    368 documents in class 13 (sci.med)\n",
      "    369 documents in class 14 (sci.space)\n",
      "    380 documents in class 15 (soc.religion.christian)\n",
      "    339 documents in class 16 (talk.politics.guns)\n",
      "    353 documents in class 17 (talk.politics.mideast)\n",
      "    294 documents in class 18 (talk.politics.misc)\n",
      "    229 documents in class 19 (talk.religion.misc)\n"
     ]
    }
   ],
   "source": [
    "# Test dataset.\n",
    "test = utils.Text20News(data_home=FLAGS.dir_data, subset='test', remove=remove)\n",
    "test.clean_text(num='substitute')\n",
    "test.vectorize(vocabulary=train.vocab)\n",
    "test.data_info()\n",
    "wc = test.remove_short_documents(nwords=5, vocab='selected')\n",
    "print('shortest: {}, longest: {} words'.format(wc.min(), wc.max()))\n",
    "test.data_info(True)\n",
    "test.normalize(norm='l1')"
   ]
  },
  {
   "cell_type": "code",
   "execution_count": 9,
   "metadata": {
    "collapsed": false
   },
   "outputs": [],
   "source": [
    "if True:\n",
    "    train_data = train.data.astype(np.float32)\n",
    "    test_data = test.data.astype(np.float32)\n",
    "    train_labels = train.labels\n",
    "    test_labels = test.labels\n",
    "else:\n",
    "    perm = np.random.RandomState(seed=42).permutation(dataset.data.shape[0])\n",
    "    Ntest = 6695\n",
    "    perm_test = perm[:Ntest]\n",
    "    perm_train = perm[Ntest:]\n",
    "    train_data = train.data[perm_train,:].astype(np.float32)\n",
    "    test_data = train.data[perm_test,:].astype(np.float32)\n",
    "    train_labels = train.labels[perm_train]\n",
    "    test_labels = train.labels[perm_test]\n",
    "\n",
    "if True:\n",
    "    graph_data = train.embeddings.astype(np.float32)\n",
    "else:\n",
    "    graph_data = train.data.T.astype(np.float32).toarray()\n",
    "\n",
    "#del train, test"
   ]
  },
  {
   "cell_type": "markdown",
   "metadata": {},
   "source": [
    "# Feature graph"
   ]
  },
  {
   "cell_type": "code",
   "execution_count": 10,
   "metadata": {
    "collapsed": false
   },
   "outputs": [
    {
     "name": "stdout",
     "output_type": "stream",
     "text": [
      "113439 > 80000 edges\n",
      "Layer 0: M_0 = |V| = 10000 nodes (0 added),|E| = 113439 edges\n",
      "Execution time: 17.98s\n"
     ]
    }
   ],
   "source": [
    "t_start = time.process_time()\n",
    "dist, idx = graph.distance_sklearn_metrics(graph_data, k=FLAGS.number_edges, metric=FLAGS.metric)\n",
    "A = graph.adjacency(dist, idx)\n",
    "print(\"{} > {} edges\".format(A.nnz//2, FLAGS.number_edges*graph_data.shape[0]//2))\n",
    "A = graph.replace_random_edges(A, 0)\n",
    "graphs, perm = coarsening.coarsen(A, levels=FLAGS.coarsening_levels, self_connections=False)\n",
    "L = [graph.laplacian(A, normalized=True) for A in graphs]\n",
    "print('Execution time: {:.2f}s'.format(time.process_time() - t_start))\n",
    "#graph.plot_spectrum(L)\n",
    "#del graph_data, A, dist, idx"
   ]
  },
  {
   "cell_type": "code",
   "execution_count": 11,
   "metadata": {
    "collapsed": false
   },
   "outputs": [
    {
     "name": "stdout",
     "output_type": "stream",
     "text": [
      "Execution time: 1.37s\n"
     ]
    }
   ],
   "source": [
    "t_start = time.process_time()\n",
    "train_data = scipy.sparse.csr_matrix(coarsening.perm_data(train_data.toarray(), perm))\n",
    "test_data = scipy.sparse.csr_matrix(coarsening.perm_data(test_data.toarray(), perm))\n",
    "print('Execution time: {:.2f}s'.format(time.process_time() - t_start))\n",
    "del perm"
   ]
  },
  {
   "cell_type": "markdown",
   "metadata": {},
   "source": [
    "# Classification"
   ]
  },
  {
   "cell_type": "code",
   "execution_count": 12,
   "metadata": {
    "collapsed": false
   },
   "outputs": [],
   "source": [
    "# Training set is shuffled already.\n",
    "#perm = np.random.permutation(train_data.shape[0])\n",
    "#train_data = train_data[perm,:]\n",
    "#train_labels = train_labels[perm]\n",
    "\n",
    "# Validation set.\n",
    "if False:\n",
    "    val_data = train_data[:FLAGS.val_size,:]\n",
    "    val_labels = train_labels[:FLAGS.val_size]\n",
    "    train_data = train_data[FLAGS.val_size:,:]\n",
    "    train_labels = train_labels[FLAGS.val_size:]\n",
    "else:\n",
    "    val_data = test_data\n",
    "    val_labels = test_labels"
   ]
  },
  {
   "cell_type": "code",
   "execution_count": 13,
   "metadata": {
    "collapsed": false
   },
   "outputs": [
    {
     "name": "stdout",
     "output_type": "stream",
     "text": [
      "Train accuracy:      35.05 51.11 85.77 99.95 91.43 79.52 84.23\n",
      "Test accuracy:       20.52 42.04 58.33 61.83 67.33 63.35 65.29\n",
      "Train F1 (weighted): 36.84 49.90 85.86 99.95 91.02 79.03 83.91\n",
      "Test F1 (weighted):  19.84 40.49 58.52 60.97 65.69 62.07 64.18\n",
      "Execution time:       6.47 123.62  0.08 18.14  0.04  0.49  2.19\n"
     ]
    }
   ],
   "source": [
    "if True:\n",
    "    utils.baseline(train_data, train_labels, test_data, test_labels)"
   ]
  },
  {
   "cell_type": "code",
   "execution_count": 14,
   "metadata": {
    "collapsed": false
   },
   "outputs": [],
   "source": [
    "common = {}\n",
    "common['dir_name']       = '20news/'\n",
    "common['num_epochs']     = 80\n",
    "common['batch_size']     = 100\n",
    "common['decay_steps']    = len(train_labels) / common['batch_size']\n",
    "common['eval_frequency'] = 5 * common['num_epochs']\n",
    "common['filter']         = 'chebyshev5'\n",
    "common['brelu']          = 'b1relu'\n",
    "common['pool']           = 'mpool1'\n",
    "C = max(train_labels) + 1  # number of classes\n",
    "\n",
    "model_perf = utils.model_perf()"
   ]
  },
  {
   "cell_type": "code",
   "execution_count": 15,
   "metadata": {
    "collapsed": false
   },
   "outputs": [
    {
     "name": "stdout",
     "output_type": "stream",
     "text": [
      "NN architecture\n",
      "  input: M_0 = 10000\n",
      "  layer 1: logits (softmax)\n",
      "    representation: M_1 = 20\n",
      "    weights: M_0 * M_1 = 10000 * 20 = 200000\n",
      "    biases: M_1 = 20\n",
      "step 400 / 8134 (epoch 3.93 / 80):\n",
      "  learning_rate = 8.57e+02, loss_average = 1.04e+03\n",
      "  validation accuracy: 9.33 (659 / 7065), f1 (weighted): 3.44, loss: 1.09e+03\n",
      "  time: 6s (wall 4s)\n",
      "step 800 / 8134 (epoch 7.87 / 80):\n",
      "  learning_rate = 6.98e+02, loss_average = 5.81e+02\n",
      "  validation accuracy: 17.95 (1268 / 7065), f1 (weighted): 16.53, loss: 5.69e+02\n",
      "  time: 11s (wall 8s)\n",
      "step 1200 / 8134 (epoch 11.80 / 80):\n",
      "  learning_rate = 5.69e+02, loss_average = 3.02e+01\n",
      "  validation accuracy: 55.16 (3897 / 7065), f1 (weighted): 54.50, loss: 4.20e+01\n",
      "  time: 17s (wall 12s)\n",
      "step 1600 / 8134 (epoch 15.74 / 80):\n",
      "  learning_rate = 4.63e+02, loss_average = 1.39e+01\n",
      "  validation accuracy: 59.14 (4178 / 7065), f1 (weighted): 57.60, loss: 3.42e+01\n",
      "  time: 22s (wall 15s)\n",
      "step 2000 / 8134 (epoch 19.67 / 80):\n",
      "  learning_rate = 3.77e+02, loss_average = 1.05e+01\n",
      "  validation accuracy: 57.52 (4064 / 7065), f1 (weighted): 57.03, loss: 3.37e+01\n",
      "  time: 28s (wall 18s)\n",
      "step 2400 / 8134 (epoch 23.60 / 80):\n",
      "  learning_rate = 3.07e+02, loss_average = 6.51e+00\n",
      "  validation accuracy: 60.89 (4302 / 7065), f1 (weighted): 60.48, loss: 2.81e+01\n",
      "  time: 32s (wall 21s)\n",
      "step 2800 / 8134 (epoch 27.54 / 80):\n",
      "  learning_rate = 2.50e+02, loss_average = 5.39e+00\n",
      "  validation accuracy: 63.43 (4481 / 7065), f1 (weighted): 63.56, loss: 2.42e+01\n",
      "  time: 37s (wall 23s)\n",
      "step 3200 / 8134 (epoch 31.47 / 80):\n",
      "  learning_rate = 2.04e+02, loss_average = 3.85e+00\n",
      "  validation accuracy: 64.19 (4535 / 7065), f1 (weighted): 64.39, loss: 2.32e+01\n",
      "  time: 42s (wall 26s)\n",
      "step 3600 / 8134 (epoch 35.41 / 80):\n",
      "  learning_rate = 1.66e+02, loss_average = 2.87e+00\n",
      "  validation accuracy: 64.80 (4578 / 7065), f1 (weighted): 64.46, loss: 2.27e+01\n",
      "  time: 46s (wall 28s)\n",
      "step 4000 / 8134 (epoch 39.34 / 80):\n",
      "  learning_rate = 1.35e+02, loss_average = 2.85e+00\n",
      "  validation accuracy: 63.40 (4479 / 7065), f1 (weighted): 63.14, loss: 2.36e+01\n",
      "  time: 51s (wall 31s)\n",
      "step 4400 / 8134 (epoch 43.27 / 80):\n",
      "  learning_rate = 1.10e+02, loss_average = 2.55e+00\n",
      "  validation accuracy: 63.52 (4488 / 7065), f1 (weighted): 63.92, loss: 2.27e+01\n",
      "  time: 55s (wall 33s)\n",
      "step 4800 / 8134 (epoch 47.21 / 80):\n",
      "  learning_rate = 8.97e+01, loss_average = 1.95e+00\n",
      "  validation accuracy: 65.80 (4649 / 7065), f1 (weighted): 65.59, loss: 2.16e+01\n",
      "  time: 60s (wall 36s)\n",
      "step 5200 / 8134 (epoch 51.14 / 80):\n",
      "  learning_rate = 7.31e+01, loss_average = 2.43e+00\n",
      "  validation accuracy: 65.34 (4616 / 7065), f1 (weighted): 65.42, loss: 2.12e+01\n",
      "  time: 65s (wall 38s)\n",
      "step 5600 / 8134 (epoch 55.07 / 80):\n",
      "  learning_rate = 5.95e+01, loss_average = 1.71e+00\n",
      "  validation accuracy: 65.17 (4604 / 7065), f1 (weighted): 65.02, loss: 2.13e+01\n",
      "  time: 69s (wall 41s)\n",
      "step 6000 / 8134 (epoch 59.01 / 80):\n",
      "  learning_rate = 5.10e+01, loss_average = 1.81e+00\n",
      "  validation accuracy: 65.28 (4612 / 7065), f1 (weighted): 65.29, loss: 2.09e+01\n",
      "  time: 74s (wall 44s)\n",
      "step 6400 / 8134 (epoch 62.94 / 80):\n",
      "  learning_rate = 4.16e+01, loss_average = 1.91e+00\n",
      "  validation accuracy: 65.04 (4595 / 7065), f1 (weighted): 65.25, loss: 2.09e+01\n",
      "  time: 79s (wall 47s)\n",
      "step 6800 / 8134 (epoch 66.88 / 80):\n",
      "  learning_rate = 3.39e+01, loss_average = 1.76e+00\n",
      "  validation accuracy: 65.73 (4644 / 7065), f1 (weighted): 65.95, loss: 2.07e+01\n",
      "  time: 84s (wall 50s)\n",
      "step 7200 / 8134 (epoch 70.81 / 80):\n",
      "  learning_rate = 2.76e+01, loss_average = 2.00e+00\n",
      "  validation accuracy: 65.19 (4606 / 7065), f1 (weighted): 65.40, loss: 2.08e+01\n",
      "  time: 89s (wall 52s)\n",
      "step 7600 / 8134 (epoch 74.74 / 80):\n",
      "  learning_rate = 2.25e+01, loss_average = 1.37e+00\n",
      "  validation accuracy: 65.39 (4620 / 7065), f1 (weighted): 65.58, loss: 2.08e+01\n",
      "  time: 94s (wall 55s)\n",
      "step 8000 / 8134 (epoch 78.68 / 80):\n",
      "  learning_rate = 1.83e+01, loss_average = 1.75e+00\n",
      "  validation accuracy: 65.75 (4645 / 7065), f1 (weighted): 65.88, loss: 2.07e+01\n",
      "  time: 99s (wall 57s)\n",
      "step 8134 / 8134 (epoch 80.00 / 80):\n",
      "  learning_rate = 1.74e+01, loss_average = 1.12e+00\n",
      "  validation accuracy: 65.17 (4604 / 7065), f1 (weighted): 65.35, loss: 2.07e+01\n",
      "  time: 101s (wall 59s)\n",
      "validation accuracy: peak = 65.80, mean = 65.39\n",
      "INFO:tensorflow:Restoring parameters from /media/vinh/3f144d46-6de0-49c5-aedb-ede7be595d7c/graph_theory/cnn_graph/lib/../checkpoints/20news/softmax/model-8134\n",
      "train accuracy: 94.39 (9598 / 10168), f1 (weighted): 94.41, loss: 1.47e+00\n",
      "time: 1s (wall 1s)\n",
      "INFO:tensorflow:Restoring parameters from /media/vinh/3f144d46-6de0-49c5-aedb-ede7be595d7c/graph_theory/cnn_graph/lib/../checkpoints/20news/softmax/model-8134\n",
      "test  accuracy: 65.17 (4604 / 7065), f1 (weighted): 65.35, loss: 2.07e+01\n",
      "time: 0s (wall 0s)\n"
     ]
    }
   ],
   "source": [
    "if True:\n",
    "    name = 'softmax'\n",
    "    params = common.copy()\n",
    "    params['dir_name'] += name\n",
    "    params['regularization'] = 0\n",
    "    params['dropout']        = 1\n",
    "    params['learning_rate']  = 1e3\n",
    "    params['decay_rate']     = 0.95\n",
    "    params['momentum']       = 0.9\n",
    "    params['F']              = []\n",
    "    params['K']              = []\n",
    "    params['p']              = []\n",
    "    params['M']              = [C]\n",
    "    model_perf.test(models.cgcnn(L, **params), name, params,\n",
    "                    train_data, train_labels, val_data, val_labels, test_data, test_labels)"
   ]
  },
  {
   "cell_type": "code",
   "execution_count": 16,
   "metadata": {
    "collapsed": false
   },
   "outputs": [
    {
     "name": "stdout",
     "output_type": "stream",
     "text": [
      "NN architecture\n",
      "  input: M_0 = 10000\n",
      "  layer 1: fc1\n",
      "    representation: M_1 = 2500\n",
      "    weights: M_0 * M_1 = 10000 * 2500 = 25000000\n",
      "    biases: M_1 = 2500\n",
      "  layer 2: logits (softmax)\n",
      "    representation: M_2 = 20\n",
      "    weights: M_1 * M_2 = 2500 * 20 = 50000\n",
      "    biases: M_2 = 20\n",
      "step 400 / 8134 (epoch 3.93 / 80):\n",
      "  learning_rate = 8.57e-02, loss_average = 2.52e+00\n",
      "  validation accuracy: 28.32 (2001 / 7065), f1 (weighted): 23.39, loss: 2.59e+00\n",
      "  time: 435s (wall 80s)\n",
      "step 800 / 8134 (epoch 7.87 / 80):\n",
      "  learning_rate = 6.98e-02, loss_average = 2.14e+00\n",
      "  validation accuracy: 44.25 (3126 / 7065), f1 (weighted): 43.31, loss: 2.27e+00\n",
      "  time: 893s (wall 156s)\n",
      "step 1200 / 8134 (epoch 11.80 / 80):\n",
      "  learning_rate = 5.69e-02, loss_average = 1.79e+00\n",
      "  validation accuracy: 48.37 (3417 / 7065), f1 (weighted): 46.47, loss: 2.02e+00\n",
      "  time: 1354s (wall 229s)\n",
      "step 1600 / 8134 (epoch 15.74 / 80):\n",
      "  learning_rate = 4.63e-02, loss_average = 1.60e+00\n",
      "  validation accuracy: 51.01 (3604 / 7065), f1 (weighted): 48.35, loss: 1.89e+00\n",
      "  time: 1816s (wall 303s)\n",
      "step 2000 / 8134 (epoch 19.67 / 80):\n",
      "  learning_rate = 3.77e-02, loss_average = 1.41e+00\n",
      "  validation accuracy: 53.73 (3796 / 7065), f1 (weighted): 52.14, loss: 1.76e+00\n",
      "  time: 2283s (wall 375s)\n",
      "step 2400 / 8134 (epoch 23.60 / 80):\n",
      "  learning_rate = 3.07e-02, loss_average = 1.32e+00\n",
      "  validation accuracy: 56.49 (3991 / 7065), f1 (weighted): 56.45, loss: 1.67e+00\n",
      "  time: 2750s (wall 446s)\n",
      "step 2800 / 8134 (epoch 27.54 / 80):\n",
      "  learning_rate = 2.50e-02, loss_average = 1.22e+00\n",
      "  validation accuracy: 57.30 (4048 / 7065), f1 (weighted): 56.78, loss: 1.61e+00\n",
      "  time: 3217s (wall 518s)\n",
      "step 3200 / 8134 (epoch 31.47 / 80):\n",
      "  learning_rate = 2.04e-02, loss_average = 1.14e+00\n",
      "  validation accuracy: 61.50 (4345 / 7065), f1 (weighted): 61.09, loss: 1.56e+00\n",
      "  time: 3684s (wall 590s)\n",
      "step 3600 / 8134 (epoch 35.41 / 80):\n",
      "  learning_rate = 1.66e-02, loss_average = 1.04e+00\n",
      "  validation accuracy: 62.21 (4395 / 7065), f1 (weighted): 61.33, loss: 1.52e+00\n",
      "  time: 4151s (wall 662s)\n",
      "step 4000 / 8134 (epoch 39.34 / 80):\n",
      "  learning_rate = 1.35e-02, loss_average = 1.05e+00\n",
      "  validation accuracy: 62.32 (4403 / 7065), f1 (weighted): 61.48, loss: 1.50e+00\n",
      "  time: 4618s (wall 734s)\n",
      "step 4400 / 8134 (epoch 43.27 / 80):\n",
      "  learning_rate = 1.10e-02, loss_average = 9.87e-01\n",
      "  validation accuracy: 63.52 (4488 / 7065), f1 (weighted): 62.37, loss: 1.48e+00\n",
      "  time: 5085s (wall 806s)\n",
      "step 4800 / 8134 (epoch 47.21 / 80):\n",
      "  learning_rate = 8.97e-03, loss_average = 9.82e-01\n",
      "  validation accuracy: 63.07 (4456 / 7065), f1 (weighted): 62.45, loss: 1.47e+00\n",
      "  time: 5553s (wall 878s)\n",
      "step 5200 / 8134 (epoch 51.14 / 80):\n",
      "  learning_rate = 7.31e-03, loss_average = 9.75e-01\n",
      "  validation accuracy: 63.11 (4459 / 7065), f1 (weighted): 62.40, loss: 1.46e+00\n",
      "  time: 6021s (wall 949s)\n",
      "step 5600 / 8134 (epoch 55.07 / 80):\n",
      "  learning_rate = 5.95e-03, loss_average = 9.29e-01\n",
      "  validation accuracy: 63.65 (4497 / 7065), f1 (weighted): 63.04, loss: 1.45e+00\n",
      "  time: 6488s (wall 1021s)\n",
      "step 6000 / 8134 (epoch 59.01 / 80):\n",
      "  learning_rate = 5.10e-03, loss_average = 9.40e-01\n",
      "  validation accuracy: 63.57 (4491 / 7065), f1 (weighted): 62.64, loss: 1.45e+00\n",
      "  time: 6955s (wall 1093s)\n",
      "step 6400 / 8134 (epoch 62.94 / 80):\n",
      "  learning_rate = 4.16e-03, loss_average = 9.25e-01\n",
      "  validation accuracy: 64.01 (4522 / 7065), f1 (weighted): 63.13, loss: 1.44e+00\n",
      "  time: 7422s (wall 1165s)\n",
      "step 6800 / 8134 (epoch 66.88 / 80):\n",
      "  learning_rate = 3.39e-03, loss_average = 9.12e-01\n",
      "  validation accuracy: 63.99 (4521 / 7065), f1 (weighted): 63.34, loss: 1.43e+00\n",
      "  time: 7889s (wall 1237s)\n",
      "step 7200 / 8134 (epoch 70.81 / 80):\n",
      "  learning_rate = 2.76e-03, loss_average = 9.25e-01\n",
      "  validation accuracy: 64.36 (4547 / 7065), f1 (weighted): 63.64, loss: 1.43e+00\n",
      "  time: 8357s (wall 1309s)\n",
      "step 7600 / 8134 (epoch 74.74 / 80):\n",
      "  learning_rate = 2.25e-03, loss_average = 9.08e-01\n",
      "  validation accuracy: 63.98 (4520 / 7065), f1 (weighted): 63.32, loss: 1.43e+00\n",
      "  time: 8824s (wall 1381s)\n",
      "step 8000 / 8134 (epoch 78.68 / 80):\n",
      "  learning_rate = 1.83e-03, loss_average = 9.15e-01\n",
      "  validation accuracy: 64.47 (4555 / 7065), f1 (weighted): 63.76, loss: 1.42e+00\n",
      "  time: 9291s (wall 1454s)\n",
      "step 8134 / 8134 (epoch 80.00 / 80):\n",
      "  learning_rate = 1.74e-03, loss_average = 8.90e-01\n",
      "  validation accuracy: 64.57 (4562 / 7065), f1 (weighted): 63.90, loss: 1.42e+00\n",
      "  time: 9468s (wall 1482s)\n",
      "validation accuracy: peak = 64.57, mean = 63.88\n",
      "INFO:tensorflow:Restoring parameters from /media/vinh/3f144d46-6de0-49c5-aedb-ede7be595d7c/graph_theory/cnn_graph/lib/../checkpoints/20news/fc_softmax/model-8134\n",
      "train accuracy: 82.90 (8429 / 10168), f1 (weighted): 82.44, loss: 9.12e-01\n",
      "time: 42s (wall 6s)\n",
      "INFO:tensorflow:Restoring parameters from /media/vinh/3f144d46-6de0-49c5-aedb-ede7be595d7c/graph_theory/cnn_graph/lib/../checkpoints/20news/fc_softmax/model-8134\n",
      "test  accuracy: 64.57 (4562 / 7065), f1 (weighted): 63.90, loss: 1.42e+00\n",
      "time: 30s (wall 4s)\n"
     ]
    }
   ],
   "source": [
    "if True:\n",
    "    name = 'fc_softmax'\n",
    "    params = common.copy()\n",
    "    params['dir_name'] += name\n",
    "    params['regularization'] = 0\n",
    "    params['dropout']        = 1\n",
    "    params['learning_rate']  = 0.1\n",
    "    params['decay_rate']     = 0.95\n",
    "    params['momentum']       = 0.9\n",
    "    params['F']              = []\n",
    "    params['K']              = []\n",
    "    params['p']              = []\n",
    "    params['M']              = [2500, C]\n",
    "    model_perf.test(models.cgcnn(L, **params), name, params,\n",
    "                    train_data, train_labels, val_data, val_labels, test_data, test_labels)"
   ]
  },
  {
   "cell_type": "code",
   "execution_count": 17,
   "metadata": {
    "collapsed": false
   },
   "outputs": [
    {
     "name": "stdout",
     "output_type": "stream",
     "text": [
      "NN architecture\n",
      "  input: M_0 = 10000\n",
      "  layer 1: fc1\n",
      "    representation: M_1 = 2500\n",
      "    weights: M_0 * M_1 = 10000 * 2500 = 25000000\n",
      "    biases: M_1 = 2500\n",
      "  layer 2: fc2\n",
      "    representation: M_2 = 500\n",
      "    weights: M_1 * M_2 = 2500 * 500 = 1250000\n",
      "    biases: M_2 = 500\n",
      "  layer 3: logits (softmax)\n",
      "    representation: M_3 = 20\n",
      "    weights: M_2 * M_3 = 500 * 20 = 10000\n",
      "    biases: M_3 = 20\n",
      "step 400 / 8134 (epoch 3.93 / 80):\n",
      "  learning_rate = 8.57e-02, loss_average = 2.59e+00\n",
      "  validation accuracy: 13.79 (974 / 7065), f1 (weighted): 9.47, loss: 2.65e+00\n",
      "  time: 492s (wall 86s)\n",
      "step 800 / 8134 (epoch 7.87 / 80):\n",
      "  learning_rate = 6.98e-02, loss_average = 2.42e+00\n",
      "  validation accuracy: 20.62 (1457 / 7065), f1 (weighted): 13.52, loss: 2.50e+00\n",
      "  time: 991s (wall 163s)\n",
      "step 1200 / 8134 (epoch 11.80 / 80):\n",
      "  learning_rate = 5.69e-02, loss_average = 1.70e+00\n",
      "  validation accuracy: 40.79 (2882 / 7065), f1 (weighted): 38.27, loss: 1.82e+00\n",
      "  time: 1491s (wall 238s)\n",
      "step 1600 / 8134 (epoch 15.74 / 80):\n",
      "  learning_rate = 4.63e-02, loss_average = 1.44e+00\n",
      "  validation accuracy: 46.33 (3273 / 7065), f1 (weighted): 44.42, loss: 1.75e+00\n",
      "  time: 1990s (wall 312s)\n",
      "step 2000 / 8134 (epoch 19.67 / 80):\n",
      "  learning_rate = 3.77e-02, loss_average = 1.17e+00\n",
      "  validation accuracy: 51.13 (3612 / 7065), f1 (weighted): 49.50, loss: 1.56e+00\n",
      "  time: 2489s (wall 388s)\n",
      "step 2400 / 8134 (epoch 23.60 / 80):\n",
      "  learning_rate = 3.07e-02, loss_average = 8.01e-01\n",
      "  validation accuracy: 56.76 (4010 / 7065), f1 (weighted): 56.53, loss: 1.53e+00\n",
      "  time: 2987s (wall 463s)\n",
      "step 2800 / 8134 (epoch 27.54 / 80):\n",
      "  learning_rate = 2.50e-02, loss_average = 6.48e-01\n",
      "  validation accuracy: 61.30 (4331 / 7065), f1 (weighted): 60.56, loss: 1.42e+00\n",
      "  time: 3486s (wall 538s)\n",
      "step 3200 / 8134 (epoch 31.47 / 80):\n",
      "  learning_rate = 2.04e-02, loss_average = 5.28e-01\n",
      "  validation accuracy: 62.59 (4422 / 7065), f1 (weighted): 61.53, loss: 1.36e+00\n",
      "  time: 3985s (wall 613s)\n",
      "step 3600 / 8134 (epoch 35.41 / 80):\n",
      "  learning_rate = 1.66e-02, loss_average = 4.17e-01\n",
      "  validation accuracy: 61.80 (4366 / 7065), f1 (weighted): 61.58, loss: 1.42e+00\n",
      "  time: 4484s (wall 688s)\n",
      "step 4000 / 8134 (epoch 39.34 / 80):\n",
      "  learning_rate = 1.35e-02, loss_average = 3.54e-01\n",
      "  validation accuracy: 61.83 (4368 / 7065), f1 (weighted): 60.85, loss: 1.45e+00\n",
      "  time: 4983s (wall 763s)\n",
      "step 4400 / 8134 (epoch 43.27 / 80):\n",
      "  learning_rate = 1.10e-02, loss_average = 3.04e-01\n",
      "  validation accuracy: 63.50 (4486 / 7065), f1 (weighted): 63.40, loss: 1.39e+00\n",
      "  time: 5482s (wall 838s)\n",
      "step 4800 / 8134 (epoch 47.21 / 80):\n",
      "  learning_rate = 8.97e-03, loss_average = 2.99e-01\n",
      "  validation accuracy: 63.06 (4455 / 7065), f1 (weighted): 62.84, loss: 1.42e+00\n",
      "  time: 5980s (wall 913s)\n",
      "step 5200 / 8134 (epoch 51.14 / 80):\n",
      "  learning_rate = 7.31e-03, loss_average = 2.75e-01\n",
      "  validation accuracy: 65.10 (4599 / 7065), f1 (weighted): 64.70, loss: 1.37e+00\n",
      "  time: 6478s (wall 988s)\n",
      "step 5600 / 8134 (epoch 55.07 / 80):\n",
      "  learning_rate = 5.95e-03, loss_average = 2.69e-01\n",
      "  validation accuracy: 64.71 (4572 / 7065), f1 (weighted): 64.50, loss: 1.40e+00\n",
      "  time: 6977s (wall 1064s)\n",
      "step 6000 / 8134 (epoch 59.01 / 80):\n",
      "  learning_rate = 5.10e-03, loss_average = 2.26e-01\n",
      "  validation accuracy: 64.19 (4535 / 7065), f1 (weighted): 64.32, loss: 1.41e+00\n",
      "  time: 7476s (wall 1139s)\n",
      "step 6400 / 8134 (epoch 62.94 / 80):\n",
      "  learning_rate = 4.16e-03, loss_average = 2.41e-01\n",
      "  validation accuracy: 64.32 (4544 / 7065), f1 (weighted): 64.18, loss: 1.40e+00\n",
      "  time: 7974s (wall 1214s)\n",
      "step 6800 / 8134 (epoch 66.88 / 80):\n",
      "  learning_rate = 3.39e-03, loss_average = 2.22e-01\n",
      "  validation accuracy: 64.39 (4549 / 7065), f1 (weighted): 64.52, loss: 1.40e+00\n",
      "  time: 8472s (wall 1289s)\n",
      "step 7200 / 8134 (epoch 70.81 / 80):\n",
      "  learning_rate = 2.76e-03, loss_average = 1.96e-01\n",
      "  validation accuracy: 64.97 (4590 / 7065), f1 (weighted): 64.76, loss: 1.40e+00\n",
      "  time: 8970s (wall 1364s)\n",
      "step 7600 / 8134 (epoch 74.74 / 80):\n",
      "  learning_rate = 2.25e-03, loss_average = 1.98e-01\n",
      "  validation accuracy: 64.73 (4573 / 7065), f1 (weighted): 64.61, loss: 1.41e+00\n",
      "  time: 9469s (wall 1439s)\n",
      "step 8000 / 8134 (epoch 78.68 / 80):\n",
      "  learning_rate = 1.83e-03, loss_average = 1.89e-01\n",
      "  validation accuracy: 65.08 (4598 / 7065), f1 (weighted): 65.11, loss: 1.40e+00\n",
      "  time: 9967s (wall 1514s)\n",
      "step 8134 / 8134 (epoch 80.00 / 80):\n",
      "  learning_rate = 1.74e-03, loss_average = 2.10e-01\n",
      "  validation accuracy: 64.63 (4566 / 7065), f1 (weighted): 64.86, loss: 1.41e+00\n",
      "  time: 10156s (wall 1543s)\n",
      "validation accuracy: peak = 65.10, mean = 64.52\n",
      "INFO:tensorflow:Restoring parameters from /media/vinh/3f144d46-6de0-49c5-aedb-ede7be595d7c/graph_theory/cnn_graph/lib/../checkpoints/20news/fc_fc_softmax/model-8134\n",
      "train accuracy: 96.50 (9812 / 10168), f1 (weighted): 96.49, loss: 2.07e-01\n",
      "time: 44s (wall 6s)\n",
      "INFO:tensorflow:Restoring parameters from /media/vinh/3f144d46-6de0-49c5-aedb-ede7be595d7c/graph_theory/cnn_graph/lib/../checkpoints/20news/fc_fc_softmax/model-8134\n",
      "test  accuracy: 64.63 (4566 / 7065), f1 (weighted): 64.86, loss: 1.41e+00\n",
      "time: 31s (wall 5s)\n"
     ]
    }
   ],
   "source": [
    "if True:\n",
    "    name = 'fc_fc_softmax'\n",
    "    params = common.copy()\n",
    "    params['dir_name'] += name\n",
    "    params['regularization'] = 0\n",
    "    params['dropout']        = 1\n",
    "    params['learning_rate']  = 0.1\n",
    "    params['decay_rate']     = 0.95\n",
    "    params['momentum']       = 0.9\n",
    "    params['F']              = []\n",
    "    params['K']              = []\n",
    "    params['p']              = []\n",
    "    params['M']              = [2500, 500, C]\n",
    "    model_perf.test(models.cgcnn(L, **params), name, params,\n",
    "                    train_data, train_labels, val_data, val_labels, test_data, test_labels)"
   ]
  },
  {
   "cell_type": "code",
   "execution_count": 18,
   "metadata": {
    "collapsed": false
   },
   "outputs": [
    {
     "name": "stdout",
     "output_type": "stream",
     "text": [
      "NN architecture\n",
      "  input: M_0 = 10000\n",
      "  layer 1: cgconv1\n",
      "    representation: M_0 * F_1 / p_1 = 10000 * 32 / 1 = 320000\n",
      "    weights: F_0 * F_1 * K_1 = 1 * 32 * 10000 = 320000\n",
      "    biases: F_1 = 32\n",
      "  layer 2: logits (softmax)\n",
      "    representation: M_2 = 20\n",
      "    weights: M_1 * M_2 = 320000 * 20 = 6400000\n",
      "    biases: M_2 = 20\n",
      "step 400 / 8134 (epoch 3.93 / 80):\n",
      "  learning_rate = 1.00e-03, loss_average = 3.00e+00\n",
      "  validation accuracy: 5.21 (368 / 7065), f1 (weighted): 0.77, loss: 3.01e+00\n",
      "  time: 42988s (wall 5705s)\n",
      "step 800 / 8134 (epoch 7.87 / 80):\n",
      "  learning_rate = 1.00e-03, loss_average = 3.00e+00\n",
      "  validation accuracy: 5.29 (374 / 7065), f1 (weighted): 0.53, loss: 3.02e+00\n",
      "  time: 86055s (wall 11395s)\n"
     ]
    },
    {
     "ename": "KeyboardInterrupt",
     "evalue": "",
     "output_type": "error",
     "traceback": [
      "\u001b[0;31m---------------------------------------------------------------------------\u001b[0m",
      "\u001b[0;31mKeyboardInterrupt\u001b[0m                         Traceback (most recent call last)",
      "\u001b[0;32m<ipython-input-18-43abd0f8b71f>\u001b[0m in \u001b[0;36m<module>\u001b[0;34m\u001b[0m\n\u001b[1;32m     14\u001b[0m     \u001b[0mparams\u001b[0m\u001b[0;34m[\u001b[0m\u001b[0;34m'M'\u001b[0m\u001b[0;34m]\u001b[0m              \u001b[0;34m=\u001b[0m \u001b[0;34m[\u001b[0m\u001b[0mC\u001b[0m\u001b[0;34m]\u001b[0m\u001b[0;34m\u001b[0m\u001b[0;34m\u001b[0m\u001b[0m\n\u001b[1;32m     15\u001b[0m     model_perf.test(models.cgcnn(L, **params), name, params,\n\u001b[0;32m---> 16\u001b[0;31m                     train_data, train_labels, val_data, val_labels, test_data, test_labels)\n\u001b[0m",
      "\u001b[0;32m/media/vinh/3f144d46-6de0-49c5-aedb-ede7be595d7c/graph_theory/cnn_graph/lib/utils.py\u001b[0m in \u001b[0;36mtest\u001b[0;34m(s, model, name, params, train_data, train_labels, val_data, val_labels, test_data, test_labels)\u001b[0m\n\u001b[1;32m    287\u001b[0m         \u001b[0ms\u001b[0m\u001b[0;34m.\u001b[0m\u001b[0mparams\u001b[0m\u001b[0;34m[\u001b[0m\u001b[0mname\u001b[0m\u001b[0;34m]\u001b[0m \u001b[0;34m=\u001b[0m \u001b[0mparams\u001b[0m\u001b[0;34m\u001b[0m\u001b[0;34m\u001b[0m\u001b[0m\n\u001b[1;32m    288\u001b[0m         \u001b[0ms\u001b[0m\u001b[0;34m.\u001b[0m\u001b[0mfit_accuracies\u001b[0m\u001b[0;34m[\u001b[0m\u001b[0mname\u001b[0m\u001b[0;34m]\u001b[0m\u001b[0;34m,\u001b[0m \u001b[0ms\u001b[0m\u001b[0;34m.\u001b[0m\u001b[0mfit_losses\u001b[0m\u001b[0;34m[\u001b[0m\u001b[0mname\u001b[0m\u001b[0;34m]\u001b[0m\u001b[0;34m,\u001b[0m \u001b[0ms\u001b[0m\u001b[0;34m.\u001b[0m\u001b[0mfit_time\u001b[0m\u001b[0;34m[\u001b[0m\u001b[0mname\u001b[0m\u001b[0;34m]\u001b[0m \u001b[0;34m=\u001b[0m\u001b[0;31m \u001b[0m\u001b[0;31m\\\u001b[0m\u001b[0;34m\u001b[0m\u001b[0;34m\u001b[0m\u001b[0m\n\u001b[0;32m--> 289\u001b[0;31m                 \u001b[0mmodel\u001b[0m\u001b[0;34m.\u001b[0m\u001b[0mfit\u001b[0m\u001b[0;34m(\u001b[0m\u001b[0mtrain_data\u001b[0m\u001b[0;34m,\u001b[0m \u001b[0mtrain_labels\u001b[0m\u001b[0;34m,\u001b[0m \u001b[0mval_data\u001b[0m\u001b[0;34m,\u001b[0m \u001b[0mval_labels\u001b[0m\u001b[0;34m)\u001b[0m\u001b[0;34m\u001b[0m\u001b[0;34m\u001b[0m\u001b[0m\n\u001b[0m\u001b[1;32m    290\u001b[0m         \u001b[0mstring\u001b[0m\u001b[0;34m,\u001b[0m \u001b[0ms\u001b[0m\u001b[0;34m.\u001b[0m\u001b[0mtrain_accuracy\u001b[0m\u001b[0;34m[\u001b[0m\u001b[0mname\u001b[0m\u001b[0;34m]\u001b[0m\u001b[0;34m,\u001b[0m \u001b[0ms\u001b[0m\u001b[0;34m.\u001b[0m\u001b[0mtrain_f1\u001b[0m\u001b[0;34m[\u001b[0m\u001b[0mname\u001b[0m\u001b[0;34m]\u001b[0m\u001b[0;34m,\u001b[0m \u001b[0ms\u001b[0m\u001b[0;34m.\u001b[0m\u001b[0mtrain_loss\u001b[0m\u001b[0;34m[\u001b[0m\u001b[0mname\u001b[0m\u001b[0;34m]\u001b[0m \u001b[0;34m=\u001b[0m\u001b[0;31m \u001b[0m\u001b[0;31m\\\u001b[0m\u001b[0;34m\u001b[0m\u001b[0;34m\u001b[0m\u001b[0m\n\u001b[1;32m    291\u001b[0m                 \u001b[0mmodel\u001b[0m\u001b[0;34m.\u001b[0m\u001b[0mevaluate\u001b[0m\u001b[0;34m(\u001b[0m\u001b[0mtrain_data\u001b[0m\u001b[0;34m,\u001b[0m \u001b[0mtrain_labels\u001b[0m\u001b[0;34m)\u001b[0m\u001b[0;34m\u001b[0m\u001b[0;34m\u001b[0m\u001b[0m\n",
      "\u001b[0;32m/media/vinh/3f144d46-6de0-49c5-aedb-ede7be595d7c/graph_theory/cnn_graph/lib/models.py\u001b[0m in \u001b[0;36mfit\u001b[0;34m(self, train_data, train_labels, val_data, val_labels)\u001b[0m\n\u001b[1;32m    107\u001b[0m                 \u001b[0mbatch_data\u001b[0m \u001b[0;34m=\u001b[0m \u001b[0mbatch_data\u001b[0m\u001b[0;34m.\u001b[0m\u001b[0mtoarray\u001b[0m\u001b[0;34m(\u001b[0m\u001b[0;34m)\u001b[0m  \u001b[0;31m# convert sparse matrices\u001b[0m\u001b[0;34m\u001b[0m\u001b[0;34m\u001b[0m\u001b[0m\n\u001b[1;32m    108\u001b[0m             \u001b[0mfeed_dict\u001b[0m \u001b[0;34m=\u001b[0m \u001b[0;34m{\u001b[0m\u001b[0mself\u001b[0m\u001b[0;34m.\u001b[0m\u001b[0mph_data\u001b[0m\u001b[0;34m:\u001b[0m \u001b[0mbatch_data\u001b[0m\u001b[0;34m,\u001b[0m \u001b[0mself\u001b[0m\u001b[0;34m.\u001b[0m\u001b[0mph_labels\u001b[0m\u001b[0;34m:\u001b[0m \u001b[0mbatch_labels\u001b[0m\u001b[0;34m,\u001b[0m \u001b[0mself\u001b[0m\u001b[0;34m.\u001b[0m\u001b[0mph_dropout\u001b[0m\u001b[0;34m:\u001b[0m \u001b[0mself\u001b[0m\u001b[0;34m.\u001b[0m\u001b[0mdropout\u001b[0m\u001b[0;34m}\u001b[0m\u001b[0;34m\u001b[0m\u001b[0;34m\u001b[0m\u001b[0m\n\u001b[0;32m--> 109\u001b[0;31m             \u001b[0mlearning_rate\u001b[0m\u001b[0;34m,\u001b[0m \u001b[0mloss_average\u001b[0m \u001b[0;34m=\u001b[0m \u001b[0msess\u001b[0m\u001b[0;34m.\u001b[0m\u001b[0mrun\u001b[0m\u001b[0;34m(\u001b[0m\u001b[0;34m[\u001b[0m\u001b[0mself\u001b[0m\u001b[0;34m.\u001b[0m\u001b[0mop_train\u001b[0m\u001b[0;34m,\u001b[0m \u001b[0mself\u001b[0m\u001b[0;34m.\u001b[0m\u001b[0mop_loss_average\u001b[0m\u001b[0;34m]\u001b[0m\u001b[0;34m,\u001b[0m \u001b[0mfeed_dict\u001b[0m\u001b[0;34m)\u001b[0m\u001b[0;34m\u001b[0m\u001b[0;34m\u001b[0m\u001b[0m\n\u001b[0m\u001b[1;32m    110\u001b[0m \u001b[0;34m\u001b[0m\u001b[0m\n\u001b[1;32m    111\u001b[0m             \u001b[0;31m# Periodical evaluation of the model.\u001b[0m\u001b[0;34m\u001b[0m\u001b[0;34m\u001b[0m\u001b[0;34m\u001b[0m\u001b[0m\n",
      "\u001b[0;32m~/anaconda3/envs/graph_cnn/lib/python3.6/site-packages/tensorflow/python/client/session.py\u001b[0m in \u001b[0;36mrun\u001b[0;34m(self, fetches, feed_dict, options, run_metadata)\u001b[0m\n\u001b[1;32m    885\u001b[0m     \u001b[0;32mtry\u001b[0m\u001b[0;34m:\u001b[0m\u001b[0;34m\u001b[0m\u001b[0;34m\u001b[0m\u001b[0m\n\u001b[1;32m    886\u001b[0m       result = self._run(None, fetches, feed_dict, options_ptr,\n\u001b[0;32m--> 887\u001b[0;31m                          run_metadata_ptr)\n\u001b[0m\u001b[1;32m    888\u001b[0m       \u001b[0;32mif\u001b[0m \u001b[0mrun_metadata\u001b[0m\u001b[0;34m:\u001b[0m\u001b[0;34m\u001b[0m\u001b[0;34m\u001b[0m\u001b[0m\n\u001b[1;32m    889\u001b[0m         \u001b[0mproto_data\u001b[0m \u001b[0;34m=\u001b[0m \u001b[0mtf_session\u001b[0m\u001b[0;34m.\u001b[0m\u001b[0mTF_GetBuffer\u001b[0m\u001b[0;34m(\u001b[0m\u001b[0mrun_metadata_ptr\u001b[0m\u001b[0;34m)\u001b[0m\u001b[0;34m\u001b[0m\u001b[0;34m\u001b[0m\u001b[0m\n",
      "\u001b[0;32m~/anaconda3/envs/graph_cnn/lib/python3.6/site-packages/tensorflow/python/client/session.py\u001b[0m in \u001b[0;36m_run\u001b[0;34m(self, handle, fetches, feed_dict, options, run_metadata)\u001b[0m\n\u001b[1;32m   1108\u001b[0m     \u001b[0;32mif\u001b[0m \u001b[0mfinal_fetches\u001b[0m \u001b[0;32mor\u001b[0m \u001b[0mfinal_targets\u001b[0m \u001b[0;32mor\u001b[0m \u001b[0;34m(\u001b[0m\u001b[0mhandle\u001b[0m \u001b[0;32mand\u001b[0m \u001b[0mfeed_dict_tensor\u001b[0m\u001b[0;34m)\u001b[0m\u001b[0;34m:\u001b[0m\u001b[0;34m\u001b[0m\u001b[0;34m\u001b[0m\u001b[0m\n\u001b[1;32m   1109\u001b[0m       results = self._do_run(handle, final_targets, final_fetches,\n\u001b[0;32m-> 1110\u001b[0;31m                              feed_dict_tensor, options, run_metadata)\n\u001b[0m\u001b[1;32m   1111\u001b[0m     \u001b[0;32melse\u001b[0m\u001b[0;34m:\u001b[0m\u001b[0;34m\u001b[0m\u001b[0;34m\u001b[0m\u001b[0m\n\u001b[1;32m   1112\u001b[0m       \u001b[0mresults\u001b[0m \u001b[0;34m=\u001b[0m \u001b[0;34m[\u001b[0m\u001b[0;34m]\u001b[0m\u001b[0;34m\u001b[0m\u001b[0;34m\u001b[0m\u001b[0m\n",
      "\u001b[0;32m~/anaconda3/envs/graph_cnn/lib/python3.6/site-packages/tensorflow/python/client/session.py\u001b[0m in \u001b[0;36m_do_run\u001b[0;34m(self, handle, target_list, fetch_list, feed_dict, options, run_metadata)\u001b[0m\n\u001b[1;32m   1284\u001b[0m     \u001b[0;32mif\u001b[0m \u001b[0mhandle\u001b[0m \u001b[0;32mis\u001b[0m \u001b[0;32mNone\u001b[0m\u001b[0;34m:\u001b[0m\u001b[0;34m\u001b[0m\u001b[0;34m\u001b[0m\u001b[0m\n\u001b[1;32m   1285\u001b[0m       return self._do_call(_run_fn, feeds, fetches, targets, options,\n\u001b[0;32m-> 1286\u001b[0;31m                            run_metadata)\n\u001b[0m\u001b[1;32m   1287\u001b[0m     \u001b[0;32melse\u001b[0m\u001b[0;34m:\u001b[0m\u001b[0;34m\u001b[0m\u001b[0;34m\u001b[0m\u001b[0m\n\u001b[1;32m   1288\u001b[0m       \u001b[0;32mreturn\u001b[0m \u001b[0mself\u001b[0m\u001b[0;34m.\u001b[0m\u001b[0m_do_call\u001b[0m\u001b[0;34m(\u001b[0m\u001b[0m_prun_fn\u001b[0m\u001b[0;34m,\u001b[0m \u001b[0mhandle\u001b[0m\u001b[0;34m,\u001b[0m \u001b[0mfeeds\u001b[0m\u001b[0;34m,\u001b[0m \u001b[0mfetches\u001b[0m\u001b[0;34m)\u001b[0m\u001b[0;34m\u001b[0m\u001b[0;34m\u001b[0m\u001b[0m\n",
      "\u001b[0;32m~/anaconda3/envs/graph_cnn/lib/python3.6/site-packages/tensorflow/python/client/session.py\u001b[0m in \u001b[0;36m_do_call\u001b[0;34m(self, fn, *args)\u001b[0m\n\u001b[1;32m   1290\u001b[0m   \u001b[0;32mdef\u001b[0m \u001b[0m_do_call\u001b[0m\u001b[0;34m(\u001b[0m\u001b[0mself\u001b[0m\u001b[0;34m,\u001b[0m \u001b[0mfn\u001b[0m\u001b[0;34m,\u001b[0m \u001b[0;34m*\u001b[0m\u001b[0margs\u001b[0m\u001b[0;34m)\u001b[0m\u001b[0;34m:\u001b[0m\u001b[0;34m\u001b[0m\u001b[0;34m\u001b[0m\u001b[0m\n\u001b[1;32m   1291\u001b[0m     \u001b[0;32mtry\u001b[0m\u001b[0;34m:\u001b[0m\u001b[0;34m\u001b[0m\u001b[0;34m\u001b[0m\u001b[0m\n\u001b[0;32m-> 1292\u001b[0;31m       \u001b[0;32mreturn\u001b[0m \u001b[0mfn\u001b[0m\u001b[0;34m(\u001b[0m\u001b[0;34m*\u001b[0m\u001b[0margs\u001b[0m\u001b[0;34m)\u001b[0m\u001b[0;34m\u001b[0m\u001b[0;34m\u001b[0m\u001b[0m\n\u001b[0m\u001b[1;32m   1293\u001b[0m     \u001b[0;32mexcept\u001b[0m \u001b[0merrors\u001b[0m\u001b[0;34m.\u001b[0m\u001b[0mOpError\u001b[0m \u001b[0;32mas\u001b[0m \u001b[0me\u001b[0m\u001b[0;34m:\u001b[0m\u001b[0;34m\u001b[0m\u001b[0;34m\u001b[0m\u001b[0m\n\u001b[1;32m   1294\u001b[0m       \u001b[0mmessage\u001b[0m \u001b[0;34m=\u001b[0m \u001b[0mcompat\u001b[0m\u001b[0;34m.\u001b[0m\u001b[0mas_text\u001b[0m\u001b[0;34m(\u001b[0m\u001b[0me\u001b[0m\u001b[0;34m.\u001b[0m\u001b[0mmessage\u001b[0m\u001b[0;34m)\u001b[0m\u001b[0;34m\u001b[0m\u001b[0;34m\u001b[0m\u001b[0m\n",
      "\u001b[0;32m~/anaconda3/envs/graph_cnn/lib/python3.6/site-packages/tensorflow/python/client/session.py\u001b[0m in \u001b[0;36m_run_fn\u001b[0;34m(feed_dict, fetch_list, target_list, options, run_metadata)\u001b[0m\n\u001b[1;32m   1275\u001b[0m       \u001b[0mself\u001b[0m\u001b[0;34m.\u001b[0m\u001b[0m_extend_graph\u001b[0m\u001b[0;34m(\u001b[0m\u001b[0;34m)\u001b[0m\u001b[0;34m\u001b[0m\u001b[0;34m\u001b[0m\u001b[0m\n\u001b[1;32m   1276\u001b[0m       return self._call_tf_sessionrun(\n\u001b[0;32m-> 1277\u001b[0;31m           options, feed_dict, fetch_list, target_list, run_metadata)\n\u001b[0m\u001b[1;32m   1278\u001b[0m \u001b[0;34m\u001b[0m\u001b[0m\n\u001b[1;32m   1279\u001b[0m     \u001b[0;32mdef\u001b[0m \u001b[0m_prun_fn\u001b[0m\u001b[0;34m(\u001b[0m\u001b[0mhandle\u001b[0m\u001b[0;34m,\u001b[0m \u001b[0mfeed_dict\u001b[0m\u001b[0;34m,\u001b[0m \u001b[0mfetch_list\u001b[0m\u001b[0;34m)\u001b[0m\u001b[0;34m:\u001b[0m\u001b[0;34m\u001b[0m\u001b[0;34m\u001b[0m\u001b[0m\n",
      "\u001b[0;32m~/anaconda3/envs/graph_cnn/lib/python3.6/site-packages/tensorflow/python/client/session.py\u001b[0m in \u001b[0;36m_call_tf_sessionrun\u001b[0;34m(self, options, feed_dict, fetch_list, target_list, run_metadata)\u001b[0m\n\u001b[1;32m   1365\u001b[0m     return tf_session.TF_SessionRun_wrapper(\n\u001b[1;32m   1366\u001b[0m         \u001b[0mself\u001b[0m\u001b[0;34m.\u001b[0m\u001b[0m_session\u001b[0m\u001b[0;34m,\u001b[0m \u001b[0moptions\u001b[0m\u001b[0;34m,\u001b[0m \u001b[0mfeed_dict\u001b[0m\u001b[0;34m,\u001b[0m \u001b[0mfetch_list\u001b[0m\u001b[0;34m,\u001b[0m \u001b[0mtarget_list\u001b[0m\u001b[0;34m,\u001b[0m\u001b[0;34m\u001b[0m\u001b[0;34m\u001b[0m\u001b[0m\n\u001b[0;32m-> 1367\u001b[0;31m         run_metadata)\n\u001b[0m\u001b[1;32m   1368\u001b[0m \u001b[0;34m\u001b[0m\u001b[0m\n\u001b[1;32m   1369\u001b[0m   \u001b[0;32mdef\u001b[0m \u001b[0m_call_tf_sessionprun\u001b[0m\u001b[0;34m(\u001b[0m\u001b[0mself\u001b[0m\u001b[0;34m,\u001b[0m \u001b[0mhandle\u001b[0m\u001b[0;34m,\u001b[0m \u001b[0mfeed_dict\u001b[0m\u001b[0;34m,\u001b[0m \u001b[0mfetch_list\u001b[0m\u001b[0;34m)\u001b[0m\u001b[0;34m:\u001b[0m\u001b[0;34m\u001b[0m\u001b[0;34m\u001b[0m\u001b[0m\n",
      "\u001b[0;31mKeyboardInterrupt\u001b[0m: "
     ]
    }
   ],
   "source": [
    "if True:\n",
    "    name = 'fgconv_softmax'\n",
    "    params = common.copy()\n",
    "    params['dir_name'] += name\n",
    "    params['filter']         = 'fourier'\n",
    "    params['regularization'] = 0\n",
    "    params['dropout']        = 1\n",
    "    params['learning_rate']  = 0.001\n",
    "    params['decay_rate']     = 1\n",
    "    params['momentum']       = 0\n",
    "    params['F']              = [32]\n",
    "    params['K']              = [L[0].shape[0]]\n",
    "    params['p']              = [1]\n",
    "    params['M']              = [C]\n",
    "    model_perf.test(models.cgcnn(L, **params), name, params,\n",
    "                    train_data, train_labels, val_data, val_labels, test_data, test_labels)"
   ]
  },
  {
   "cell_type": "code",
   "execution_count": null,
   "metadata": {
    "collapsed": false
   },
   "outputs": [],
   "source": [
    "if True:\n",
    "    name = 'sgconv_softmax'\n",
    "    params = common.copy()\n",
    "    params['dir_name'] += name\n",
    "    params['filter']         = 'spline'\n",
    "    params['regularization'] = 1e-3\n",
    "    params['dropout']        = 1\n",
    "    params['learning_rate']  = 0.1\n",
    "    params['decay_rate']     = 0.999\n",
    "    params['momentum']       = 0\n",
    "    params['F']              = [32]\n",
    "    params['K']              = [5]\n",
    "    params['p']              = [1]\n",
    "    params['M']              = [C]\n",
    "    model_perf.test(models.cgcnn(L, **params), name, params,\n",
    "                    train_data, train_labels, val_data, val_labels, test_data, test_labels)"
   ]
  },
  {
   "cell_type": "code",
   "execution_count": null,
   "metadata": {
    "collapsed": false
   },
   "outputs": [],
   "source": [
    "if True:\n",
    "    name = 'cgconv_softmax'\n",
    "    params = common.copy()\n",
    "    params['dir_name'] += name\n",
    "    params['regularization'] = 1e-3\n",
    "    params['dropout']        = 1\n",
    "    params['learning_rate']  = 0.1\n",
    "    params['decay_rate']     = 0.999\n",
    "    params['momentum']       = 0\n",
    "    params['F']              = [32]\n",
    "    params['K']              = [5]\n",
    "    params['p']              = [1]\n",
    "    params['M']              = [C]\n",
    "    model_perf.test(models.cgcnn(L, **params), name, params,\n",
    "                    train_data, train_labels, val_data, val_labels, test_data, test_labels)"
   ]
  },
  {
   "cell_type": "code",
   "execution_count": null,
   "metadata": {
    "collapsed": false
   },
   "outputs": [],
   "source": [
    "if True:\n",
    "    name = 'cgconv_fc_softmax'\n",
    "    params = common.copy()\n",
    "    params['dir_name'] += name\n",
    "    params['regularization'] = 0\n",
    "    params['dropout']        = 1\n",
    "    params['learning_rate']  = 0.1\n",
    "    params['decay_rate']     = 0.999\n",
    "    params['momentum']       = 0\n",
    "    params['F']              = [5]\n",
    "    params['K']              = [15]\n",
    "    params['p']              = [1]\n",
    "    params['M']              = [100, C]\n",
    "    model_perf.test(models.cgcnn(L, **params), name, params,\n",
    "                    train_data, train_labels, val_data, val_labels, test_data, test_labels)"
   ]
  },
  {
   "cell_type": "code",
   "execution_count": null,
   "metadata": {
    "collapsed": false
   },
   "outputs": [],
   "source": [
    "model_perf.show()"
   ]
  },
  {
   "cell_type": "code",
   "execution_count": null,
   "metadata": {
    "collapsed": true
   },
   "outputs": [],
   "source": [
    "if False:\n",
    "    grid_params = {}\n",
    "    data = (train_data, train_labels, val_data, val_labels, test_data, test_labels)\n",
    "    utils.grid_search(params, grid_params, *data, model=lambda x: models.cgcnn(L,**x))"
   ]
  }
 ],
 "metadata": {
  "kernelspec": {
   "display_name": "Python 3.6.13 ('graph_cnn')",
   "language": "python",
   "name": "python3"
  },
  "language_info": {
   "codemirror_mode": {
    "name": "ipython",
    "version": 3
   },
   "file_extension": ".py",
   "mimetype": "text/x-python",
   "name": "python",
   "nbconvert_exporter": "python",
   "pygments_lexer": "ipython3",
   "version": "3.6.13"
  },
  "vscode": {
   "interpreter": {
    "hash": "7acbe62c370735cf29978d45177ea6b5118616e4fa81e95b779f5f32ec0f4222"
   }
  }
 },
 "nbformat": 4,
 "nbformat_minor": 0
}
